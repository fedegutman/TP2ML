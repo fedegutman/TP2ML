{
 "cells": [
  {
   "cell_type": "markdown",
   "metadata": {},
   "source": [
    "## Diagnóstico de Cáncer de Mama ##"
   ]
  },
  {
   "cell_type": "markdown",
   "metadata": {},
   "source": [
    "### Importamos las librerías necesarias"
   ]
  },
  {
   "cell_type": "code",
   "execution_count": 2,
   "metadata": {},
   "outputs": [],
   "source": [
    "import numpy as np\n",
    "import pandas as pd\n",
    "import matplotlib.pyplot as plt\n",
    "import seaborn as sns\n",
    "import sweetviz as sv"
   ]
  },
  {
   "cell_type": "markdown",
   "metadata": {},
   "source": [
    "### Hacemos un análisis exploratorio de los datos"
   ]
  },
  {
   "cell_type": "code",
   "execution_count": 3,
   "metadata": {},
   "outputs": [],
   "source": [
    "path1 = 'diagnostico_cancer/data/raw/cell_diagnosis_dev.csv'\n",
    "cancer_dataset = pd.read_csv(path1)"
   ]
  },
  {
   "cell_type": "code",
   "execution_count": 4,
   "metadata": {},
   "outputs": [
    {
     "name": "stdout",
     "output_type": "stream",
     "text": [
      "          CellSize    CellShape  NucleusDensity  ChromatinTexture  \\\n",
      "count  1333.000000  1347.000000     1362.000000       1366.000000   \n",
      "mean     83.247087     0.598657        2.097344         26.094973   \n",
      "std     100.316719     0.565438        4.987573         24.842157   \n",
      "min    -100.000000    -1.413038       -3.000000         10.000000   \n",
      "25%      66.572149     0.479758        1.397010         21.279126   \n",
      "50%      69.704323     0.498832        1.445035         22.066810   \n",
      "75%      72.653147     0.523018        1.485651         22.823319   \n",
      "max    1000.000000     5.048566       50.000000        263.793425   \n",
      "\n",
      "       CytoplasmSize  CellAdhesion  MitosisRate  NuclearMembrane  \\\n",
      "count    1347.000000   1369.000000  1343.000000      1343.000000   \n",
      "mean       33.989815      0.548800     5.326484         2.825365   \n",
      "std        32.809627      0.612232    11.572456         2.697956   \n",
      "min         5.000000     -4.461755   -50.000000        -3.438990   \n",
      "25%        26.304514      0.456400     2.776731         2.254502   \n",
      "50%        28.448318      0.474836     3.080247         2.414464   \n",
      "75%        30.506774      0.494613     3.423066         2.534339   \n",
      "max       299.350559      5.029925   100.000000        24.871762   \n",
      "\n",
      "       GrowthFactor  OxygenSaturation  Vascularization  InflammationMarkers  \\\n",
      "count   1359.000000       1375.000000      1347.000000          1358.000000   \n",
      "mean      74.126375         93.199374         5.968017            47.725954   \n",
      "std       77.819461         82.574244         5.649530            44.133737   \n",
      "min      -50.000000        -10.000000        -0.997057             0.000000   \n",
      "25%       58.170436         79.130570         4.782475            37.513981   \n",
      "50%       60.993969         79.987328         5.068099            40.859154   \n",
      "75%       63.041642         80.986905         5.346464            43.913527   \n",
      "max      563.622684        807.181058        54.512433           440.902261   \n",
      "\n",
      "         Diagnosis  \n",
      "count  1663.000000  \n",
      "mean      0.450391  \n",
      "std       0.497683  \n",
      "min       0.000000  \n",
      "25%       0.000000  \n",
      "50%       0.000000  \n",
      "75%       1.000000  \n",
      "max       1.000000  \n"
     ]
    },
    {
     "ename": "TypeError",
     "evalue": "'Index' object is not callable",
     "output_type": "error",
     "traceback": [
      "\u001b[0;31m---------------------------------------------------------------------------\u001b[0m",
      "\u001b[0;31mTypeError\u001b[0m                                 Traceback (most recent call last)",
      "Cell \u001b[0;32mIn[4], line 2\u001b[0m\n\u001b[1;32m      1\u001b[0m \u001b[38;5;28mprint\u001b[39m(cancer_dataset\u001b[38;5;241m.\u001b[39mdescribe())\n\u001b[0;32m----> 2\u001b[0m \u001b[38;5;28mprint\u001b[39m(\u001b[43mcancer_dataset\u001b[49m\u001b[38;5;241;43m.\u001b[39;49m\u001b[43mcolumns\u001b[49m\u001b[43m(\u001b[49m\u001b[43m)\u001b[49m)\n\u001b[1;32m      4\u001b[0m sns\u001b[38;5;241m.\u001b[39mheatmap(cancer_dataset\u001b[38;5;241m.\u001b[39misnull(), cbar\u001b[38;5;241m=\u001b[39m\u001b[38;5;28;01mFalse\u001b[39;00m, cmap\u001b[38;5;241m=\u001b[39m\u001b[38;5;124m\"\u001b[39m\u001b[38;5;124mviridis\u001b[39m\u001b[38;5;124m\"\u001b[39m)\n\u001b[1;32m      5\u001b[0m plt\u001b[38;5;241m.\u001b[39mshow()\n",
      "\u001b[0;31mTypeError\u001b[0m: 'Index' object is not callable"
     ]
    }
   ],
   "source": [
    "print(cancer_dataset.describe())\n",
    "print(cancer_dataset.columns())\n",
    "\n",
    "sns.heatmap(cancer_dataset.isnull(), cbar=False, cmap=\"viridis\")\n",
    "plt.show()\n",
    "\n",
    "corr_matrix = cancer_dataset.corr()\n",
    "sns.heatmap(corr_matrix, annot=True, cmap=\"coolwarm\")\n",
    "plt.show()\n",
    "\n",
    "# sns.pairplot(cancer_dataset)\n",
    "# plt.show()"
   ]
  },
  {
   "cell_type": "code",
   "execution_count": 5,
   "metadata": {},
   "outputs": [
    {
     "name": "stderr",
     "output_type": "stream",
     "text": [
      "Done! Use 'show' commands to display/save.   |██████████| [100%]   00:00 -> (00:00 left)\n"
     ]
    },
    {
     "name": "stdout",
     "output_type": "stream",
     "text": [
      "Report SWEETVIZ_REPORT.html was generated! NOTEBOOK/COLAB USERS: the web browser MAY not pop up, regardless, the report IS saved in your notebook/colab files.\n"
     ]
    }
   ],
   "source": [
    "my_report = sv.analyze(cancer_dataset)\n",
    "my_report.show_html() # Default arguments will generate to \"SWEETVIZ_REPORT.html\""
   ]
  }
 ],
 "metadata": {
  "kernelspec": {
   "display_name": "Python 3",
   "language": "python",
   "name": "python3"
  },
  "language_info": {
   "codemirror_mode": {
    "name": "ipython",
    "version": 3
   },
   "file_extension": ".py",
   "mimetype": "text/x-python",
   "name": "python",
   "nbconvert_exporter": "python",
   "pygments_lexer": "ipython3",
   "version": "3.12.6"
  }
 },
 "nbformat": 4,
 "nbformat_minor": 2
}
